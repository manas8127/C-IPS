{
 "cells": [
  {
   "cell_type": "code",
   "execution_count": 19,
   "metadata": {},
   "outputs": [],
   "source": [
    "import mysql.connector"
   ]
  },
  {
   "cell_type": "code",
   "execution_count": 20,
   "metadata": {},
   "outputs": [],
   "source": [
    "conn = mysql.connector.connect(\n",
    "  host=\"localhost\",\n",
    "  user=\"root\",\n",
    "  password=\"8127199067@1\",\n",
    "  database=\"cips\"\n",
    ")"
   ]
  },
  {
   "cell_type": "code",
   "execution_count": 4,
   "metadata": {},
   "outputs": [],
   "source": [
    "mycursor = conn.cursor()"
   ]
  },
  {
   "cell_type": "code",
   "execution_count": 5,
   "metadata": {},
   "outputs": [],
   "source": [
    "mycursor.execute(\"CREATE DATABASE CIPS\")"
   ]
  },
  {
   "cell_type": "code",
   "execution_count": 6,
   "metadata": {},
   "outputs": [
    {
     "name": "stdout",
     "output_type": "stream",
     "text": [
      "('appcompat',)\n",
      "('chat',)\n",
      "('chatapp',)\n",
      "('chatbox',)\n",
      "('cips',)\n",
      "('company',)\n",
      "('decoy',)\n",
      "('giraffe',)\n",
      "('information_schema',)\n",
      "('mlapp',)\n",
      "('mysql',)\n",
      "('performance_schema',)\n",
      "('phpstore',)\n",
      "('simpleform',)\n",
      "('sys',)\n",
      "('wordpress',)\n"
     ]
    }
   ],
   "source": [
    "mycursor.execute(\"SHOW DATABASES\")\n",
    "\n",
    "for x in mycursor:\n",
    "  print(x)"
   ]
  },
  {
   "cell_type": "code",
   "execution_count": 21,
   "metadata": {},
   "outputs": [],
   "source": [
    "cursor = conn.cursor()\n",
    "cursor.execute(\"use cips;\")"
   ]
  },
  {
   "cell_type": "code",
   "execution_count": 22,
   "metadata": {},
   "outputs": [
    {
     "name": "stdout",
     "output_type": "stream",
     "text": [
      "Total number of rows in table:  0\n",
      "\n",
      "Printing each row\n"
     ]
    }
   ],
   "source": [
    "sql_select_Query = \"select * from decoydata\"\n",
    "\n",
    "cursor.execute(sql_select_Query)\n",
    "# get all records\n",
    "records = cursor.fetchall()\n",
    "print(\"Total number of rows in table: \", cursor.rowcount)\n",
    "\n",
    "print(\"\\nPrinting each row\")\n",
    "for row in records:\n",
    "    print(\"Customer Name: \", row[0], )\n",
    "    print(\"Bank Account Number\", row[1])\n",
    "    print(\"Transaction ID\", row[2])\n",
    "    print(\"Transaction Amount\", row[3])\n",
    "    print(\"PAN\", row[4], \"\\n\")\n",
    "\n",
    "\n"
   ]
  },
  {
   "cell_type": "code",
   "execution_count": 18,
   "metadata": {},
   "outputs": [],
   "source": [
    "conn.close()"
   ]
  }
 ],
 "metadata": {
  "interpreter": {
   "hash": "275af93c58c2e59c66f1b8a9b2d58a219e3188edb25c4c579712a6ecb1cdca18"
  },
  "kernelspec": {
   "display_name": "Python 3.8.3 64-bit ('C-IPS': venv)",
   "language": "python",
   "name": "python3"
  },
  "language_info": {
   "codemirror_mode": {
    "name": "ipython",
    "version": 3
   },
   "file_extension": ".py",
   "mimetype": "text/x-python",
   "name": "python",
   "nbconvert_exporter": "python",
   "pygments_lexer": "ipython3",
   "version": "3.8.3"
  },
  "orig_nbformat": 4
 },
 "nbformat": 4,
 "nbformat_minor": 2
}
